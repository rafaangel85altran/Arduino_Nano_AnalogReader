{
  "nbformat": 4,
  "nbformat_minor": 0,
  "metadata": {
    "colab": {
      "name": "Demucs.ipynb",
      "provenance": [],
      "collapsed_sections": [],
      "toc_visible": true,
      "include_colab_link": true
    },
    "kernelspec": {
      "name": "python3",
      "display_name": "Python 3"
    },
    "accelerator": "GPU"
  },
  "cells": [
    {
      "cell_type": "markdown",
      "metadata": {
        "id": "view-in-github",
        "colab_type": "text"
      },
      "source": [
        "<a href=\"https://colab.research.google.com/github/rafaelangel85/Arduino_Nano_AnalogReader/blob/master/Demucs.ipynb\" target=\"_parent\"><img src=\"https://colab.research.google.com/assets/colab-badge.svg\" alt=\"Open In Colab\"/></a>"
      ]
    },
    {
      "cell_type": "markdown",
      "metadata": {
        "id": "Be9yoh-ILfRr",
        "colab_type": "text"
      },
      "source": [
        "# [*Colab para Demucs*](https://github.com/facebookresearch/demucs/)\n",
        "\n",
        "\n",
        "\n"
      ]
    },
    {
      "cell_type": "markdown",
      "metadata": {
        "id": "y1_ViuK_E8rO",
        "colab_type": "text"
      },
      "source": [
        "# Instalación"
      ]
    },
    {
      "cell_type": "markdown",
      "metadata": {
        "id": "5OsEwK8lFOyH",
        "colab_type": "text"
      },
      "source": [
        "Anaconda 3"
      ]
    },
    {
      "cell_type": "code",
      "metadata": {
        "id": "WDGMkAmWUAyk",
        "colab_type": "code",
        "outputId": "218b115f-ad99-4949-b943-aa11e8fe0b32",
        "colab": {
          "base_uri": "https://localhost:8080/",
          "height": 289
        }
      },
      "source": [
        "!wget -c https://repo.continuum.io/archive/Anaconda3-5.1.0-Linux-x86_64.sh"
      ],
      "execution_count": 1,
      "outputs": [
        {
          "output_type": "stream",
          "text": [
            "--2020-06-01 12:42:20--  https://repo.continuum.io/archive/Anaconda3-5.1.0-Linux-x86_64.sh\n",
            "Resolving repo.continuum.io (repo.continuum.io)... 104.18.200.79, 104.18.201.79, 2606:4700::6812:c84f, ...\n",
            "Connecting to repo.continuum.io (repo.continuum.io)|104.18.200.79|:443... connected.\n",
            "HTTP request sent, awaiting response... 301 Moved Permanently\n",
            "Location: https://repo.anaconda.com/archive/Anaconda3-5.1.0-Linux-x86_64.sh [following]\n",
            "--2020-06-01 12:42:20--  https://repo.anaconda.com/archive/Anaconda3-5.1.0-Linux-x86_64.sh\n",
            "Resolving repo.anaconda.com (repo.anaconda.com)... 104.16.130.3, 104.16.131.3, 2606:4700::6810:8203, ...\n",
            "Connecting to repo.anaconda.com (repo.anaconda.com)|104.16.130.3|:443... connected.\n",
            "HTTP request sent, awaiting response... 200 OK\n",
            "Length: 577996269 (551M) [application/x-sh]\n",
            "Saving to: ‘Anaconda3-5.1.0-Linux-x86_64.sh’\n",
            "\n",
            "Anaconda3-5.1.0-Lin 100%[===================>] 551.22M   189MB/s    in 2.9s    \n",
            "\n",
            "2020-06-01 12:42:23 (189 MB/s) - ‘Anaconda3-5.1.0-Linux-x86_64.sh’ saved [577996269/577996269]\n",
            "\n"
          ],
          "name": "stdout"
        }
      ]
    },
    {
      "cell_type": "code",
      "metadata": {
        "id": "VsYPx805CkpV",
        "colab_type": "code",
        "colab": {}
      },
      "source": [
        "!chmod +x Anaconda3-5.1.0-Linux-x86_64.sh"
      ],
      "execution_count": 0,
      "outputs": []
    },
    {
      "cell_type": "code",
      "metadata": {
        "id": "ZheGVAQTCpZ6",
        "colab_type": "code",
        "outputId": "32919f6d-a7b5-491c-d3af-5364daa45687",
        "colab": {
          "base_uri": "https://localhost:8080/",
          "height": 1000
        }
      },
      "source": [
        "!bash ./Anaconda3-5.1.0-Linux-x86_64.sh -b -f -p /usr/local"
      ],
      "execution_count": 3,
      "outputs": [
        {
          "output_type": "stream",
          "text": [
            "PREFIX=/usr/local\n",
            "installing: python-3.6.4-hc3d631a_1 ...\n",
            "Python 3.6.4 :: Anaconda, Inc.\n",
            "installing: ca-certificates-2017.08.26-h1d4fec5_0 ...\n",
            "installing: conda-env-2.6.0-h36134e3_1 ...\n",
            "installing: intel-openmp-2018.0.0-hc7b2577_8 ...\n",
            "installing: libgcc-ng-7.2.0-h7cc24e2_2 ...\n",
            "installing: libgfortran-ng-7.2.0-h9f7466a_2 ...\n",
            "installing: libstdcxx-ng-7.2.0-h7a57d05_2 ...\n",
            "installing: bzip2-1.0.6-h9a117a8_4 ...\n",
            "installing: expat-2.2.5-he0dffb1_0 ...\n",
            "installing: gmp-6.1.2-h6c8ec71_1 ...\n",
            "installing: graphite2-1.3.10-hf63cedd_1 ...\n",
            "installing: icu-58.2-h9c2bf20_1 ...\n",
            "installing: jbig-2.1-hdba287a_0 ...\n",
            "installing: jpeg-9b-h024ee3a_2 ...\n",
            "installing: libffi-3.2.1-hd88cf55_4 ...\n",
            "installing: libsodium-1.0.15-hf101ebd_0 ...\n",
            "installing: libtool-2.4.6-h544aabb_3 ...\n",
            "installing: libxcb-1.12-hcd93eb1_4 ...\n",
            "installing: lzo-2.10-h49e0be7_2 ...\n",
            "installing: mkl-2018.0.1-h19d6760_4 ...\n",
            "installing: ncurses-6.0-h9df7e31_2 ...\n",
            "installing: openssl-1.0.2n-hb7f436b_0 ...\n",
            "installing: patchelf-0.9-hf79760b_2 ...\n",
            "installing: pcre-8.41-hc27e229_1 ...\n",
            "installing: pixman-0.34.0-hceecf20_3 ...\n",
            "installing: tk-8.6.7-hc745277_3 ...\n",
            "installing: unixodbc-2.3.4-hc36303a_1 ...\n",
            "installing: xz-5.2.3-h55aa19d_2 ...\n",
            "installing: yaml-0.1.7-had09818_2 ...\n",
            "installing: zlib-1.2.11-ha838bed_2 ...\n",
            "installing: glib-2.53.6-h5d9569c_2 ...\n",
            "installing: hdf5-1.10.1-h9caa474_1 ...\n",
            "installing: libedit-3.1-heed3624_0 ...\n",
            "installing: libpng-1.6.34-hb9fc6fc_0 ...\n",
            "installing: libssh2-1.8.0-h9cfc8f7_4 ...\n",
            "installing: libtiff-4.0.9-h28f6b97_0 ...\n",
            "installing: libxml2-2.9.7-h26e45fe_0 ...\n",
            "installing: mpfr-3.1.5-h11a74b3_2 ...\n",
            "installing: pandoc-1.19.2.1-hea2e7c5_1 ...\n",
            "installing: readline-7.0-ha6073c6_4 ...\n",
            "installing: zeromq-4.2.2-hbedb6e5_2 ...\n",
            "installing: dbus-1.12.2-hc3f9b76_1 ...\n",
            "installing: freetype-2.8-hab7d2ae_1 ...\n",
            "installing: gstreamer-1.12.4-hb53b477_0 ...\n",
            "installing: libcurl-7.58.0-h1ad7b7a_0 ...\n",
            "installing: libxslt-1.1.32-h1312cb7_0 ...\n",
            "installing: mpc-1.0.3-hec55b23_5 ...\n",
            "installing: sqlite-3.22.0-h1bed415_0 ...\n",
            "installing: curl-7.58.0-h84994c4_0 ...\n",
            "installing: fontconfig-2.12.4-h88586e7_1 ...\n",
            "installing: gst-plugins-base-1.12.4-h33fb286_0 ...\n",
            "installing: alabaster-0.7.10-py36h306e16b_0 ...\n",
            "installing: asn1crypto-0.24.0-py36_0 ...\n",
            "installing: attrs-17.4.0-py36_0 ...\n",
            "installing: backports-1.0-py36hfa02d7e_1 ...\n",
            "installing: beautifulsoup4-4.6.0-py36h49b8c8c_1 ...\n",
            "installing: bitarray-0.8.1-py36h14c3975_1 ...\n",
            "installing: boto-2.48.0-py36h6e4cd66_1 ...\n",
            "installing: cairo-1.14.12-h77bcde2_0 ...\n",
            "installing: certifi-2018.1.18-py36_0 ...\n",
            "installing: chardet-3.0.4-py36h0f667ec_1 ...\n",
            "installing: click-6.7-py36h5253387_0 ...\n",
            "installing: cloudpickle-0.5.2-py36_1 ...\n",
            "installing: colorama-0.3.9-py36h489cec4_0 ...\n",
            "installing: contextlib2-0.5.5-py36h6c84a62_0 ...\n",
            "installing: dask-core-0.16.1-py36_0 ...\n",
            "installing: decorator-4.2.1-py36_0 ...\n",
            "installing: docutils-0.14-py36hb0f60f5_0 ...\n",
            "installing: entrypoints-0.2.3-py36h1aec115_2 ...\n",
            "installing: et_xmlfile-1.0.1-py36hd6bccc3_0 ...\n",
            "installing: fastcache-1.0.2-py36h14c3975_2 ...\n",
            "installing: filelock-2.0.13-py36h646ffb5_0 ...\n",
            "installing: glob2-0.6-py36he249c77_0 ...\n",
            "installing: gmpy2-2.0.8-py36hc8893dd_2 ...\n",
            "installing: greenlet-0.4.12-py36h2d503a6_0 ...\n",
            "installing: heapdict-1.0.0-py36_2 ...\n",
            "installing: idna-2.6-py36h82fb2a8_1 ...\n",
            "installing: imagesize-0.7.1-py36h52d8127_0 ...\n",
            "installing: ipython_genutils-0.2.0-py36hb52b0d5_0 ...\n",
            "installing: itsdangerous-0.24-py36h93cc618_1 ...\n",
            "installing: jdcal-1.3-py36h4c697fb_0 ...\n",
            "installing: lazy-object-proxy-1.3.1-py36h10fcdad_0 ...\n",
            "installing: llvmlite-0.21.0-py36ha241eea_0 ...\n",
            "installing: locket-0.2.0-py36h787c0ad_1 ...\n",
            "installing: lxml-4.1.1-py36hf71bdeb_1 ...\n",
            "installing: markupsafe-1.0-py36hd9260cd_1 ...\n",
            "installing: mccabe-0.6.1-py36h5ad9710_1 ...\n",
            "installing: mistune-0.8.3-py36_0 ...\n",
            "installing: mkl-service-1.1.2-py36h17a0993_4 ...\n",
            "installing: mpmath-1.0.0-py36hfeacd6b_2 ...\n",
            "installing: msgpack-python-0.5.1-py36h6bb024c_0 ...\n",
            "installing: multipledispatch-0.4.9-py36h41da3fb_0 ...\n",
            "installing: numpy-1.14.0-py36h3dfced4_1 ...\n",
            "installing: olefile-0.45.1-py36_0 ...\n",
            "installing: pandocfilters-1.4.2-py36ha6701b7_1 ...\n",
            "installing: parso-0.1.1-py36h35f843b_0 ...\n",
            "installing: path.py-10.5-py36h55ceabb_0 ...\n",
            "installing: pep8-1.7.1-py36_0 ...\n",
            "installing: pickleshare-0.7.4-py36h63277f8_0 ...\n",
            "installing: pkginfo-1.4.1-py36h215d178_1 ...\n",
            "installing: pluggy-0.6.0-py36hb689045_0 ...\n",
            "installing: ply-3.10-py36hed35086_0 ...\n",
            "installing: psutil-5.4.3-py36h14c3975_0 ...\n",
            "installing: ptyprocess-0.5.2-py36h69acd42_0 ...\n",
            "installing: py-1.5.2-py36h29bf505_0 ...\n",
            "installing: pycodestyle-2.3.1-py36hf609f19_0 ...\n",
            "installing: pycosat-0.6.3-py36h0a5515d_0 ...\n",
            "installing: pycparser-2.18-py36hf9f622e_1 ...\n",
            "installing: pycrypto-2.6.1-py36h14c3975_7 ...\n",
            "installing: pycurl-7.43.0.1-py36hb7f436b_0 ...\n",
            "installing: pyodbc-4.0.22-py36hf484d3e_0 ...\n",
            "installing: pyparsing-2.2.0-py36hee85983_1 ...\n",
            "installing: pysocks-1.6.7-py36hd97a5b1_1 ...\n",
            "installing: pytz-2017.3-py36h63b9c63_0 ...\n",
            "installing: pyyaml-3.12-py36hafb9ca4_1 ...\n",
            "installing: pyzmq-16.0.3-py36he2533c7_0 ...\n",
            "installing: qt-5.6.2-h974d657_12 ...\n",
            "installing: qtpy-1.3.1-py36h3691cc8_0 ...\n",
            "installing: rope-0.10.7-py36h147e2ec_0 ...\n",
            "installing: ruamel_yaml-0.15.35-py36h14c3975_1 ...\n",
            "installing: send2trash-1.4.2-py36_0 ...\n",
            "installing: simplegeneric-0.8.1-py36_2 ...\n",
            "installing: sip-4.18.1-py36h51ed4ed_2 ...\n",
            "installing: six-1.11.0-py36h372c433_1 ...\n",
            "installing: snowballstemmer-1.2.1-py36h6febd40_0 ...\n",
            "installing: sortedcontainers-1.5.9-py36_0 ...\n",
            "installing: sphinxcontrib-1.0-py36h6d0f590_1 ...\n",
            "installing: sqlalchemy-1.2.1-py36h14c3975_0 ...\n",
            "installing: tblib-1.3.2-py36h34cf8b6_0 ...\n",
            "installing: testpath-0.3.1-py36h8cadb63_0 ...\n",
            "installing: toolz-0.9.0-py36_0 ...\n",
            "installing: tornado-4.5.3-py36_0 ...\n",
            "installing: typing-3.6.2-py36h7da032a_0 ...\n",
            "installing: unicodecsv-0.14.1-py36ha668878_0 ...\n",
            "installing: wcwidth-0.1.7-py36hdf4376a_0 ...\n",
            "installing: webencodings-0.5.1-py36h800622e_1 ...\n",
            "installing: werkzeug-0.14.1-py36_0 ...\n",
            "installing: wrapt-1.10.11-py36h28b7045_0 ...\n",
            "installing: xlrd-1.1.0-py36h1db9f0c_1 ...\n",
            "installing: xlsxwriter-1.0.2-py36h3de1aca_0 ...\n",
            "installing: xlwt-1.3.0-py36h7b00a1f_0 ...\n",
            "installing: babel-2.5.3-py36_0 ...\n",
            "installing: backports.shutil_get_terminal_size-1.0.0-py36hfea85ff_2 ...\n",
            "installing: bottleneck-1.2.1-py36haac1ea0_0 ...\n",
            "installing: cffi-1.11.4-py36h9745a5d_0 ...\n",
            "installing: conda-verify-2.0.0-py36h98955d8_0 ...\n",
            "installing: cycler-0.10.0-py36h93f1223_0 ...\n",
            "installing: cytoolz-0.9.0-py36h14c3975_0 ...\n",
            "installing: h5py-2.7.1-py36h3585f63_0 ...\n",
            "installing: harfbuzz-1.7.4-hc5b324e_0 ...\n",
            "installing: html5lib-1.0.1-py36h2f9c1c0_0 ...\n",
            "installing: jedi-0.11.1-py36_0 ...\n",
            "installing: networkx-2.1-py36_0 ...\n",
            "installing: nltk-3.2.5-py36h7532b22_0 ...\n",
            "installing: numba-0.36.2-np114py36hc6662d5_0 ...\n",
            "installing: numexpr-2.6.4-py36hc4a3f9a_0 ...\n",
            "installing: openpyxl-2.4.10-py36_0 ...\n",
            "installing: packaging-16.8-py36ha668100_1 ...\n",
            "installing: partd-0.3.8-py36h36fd896_0 ...\n",
            "installing: pathlib2-2.3.0-py36h49efa8e_0 ...\n",
            "installing: pexpect-4.3.1-py36_0 ...\n",
            "installing: pillow-5.0.0-py36h3deb7b8_0 ...\n",
            "installing: pyqt-5.6.0-py36h0386399_5 ...\n",
            "installing: python-dateutil-2.6.1-py36h88d3b88_1 ...\n",
            "installing: pywavelets-0.5.2-py36he602eb0_0 ...\n",
            "installing: qtawesome-0.4.4-py36h609ed8c_0 ...\n",
            "installing: scipy-1.0.0-py36hbf646e7_0 ...\n",
            "installing: setuptools-38.4.0-py36_0 ...\n",
            "installing: singledispatch-3.4.0.3-py36h7a266c3_0 ...\n",
            "installing: sortedcollections-0.5.3-py36h3c761f9_0 ...\n",
            "installing: sphinxcontrib-websupport-1.0.1-py36hb5cb234_1 ...\n",
            "installing: sympy-1.1.1-py36hc6d1c1c_0 ...\n",
            "installing: terminado-0.8.1-py36_1 ...\n",
            "installing: traitlets-4.3.2-py36h674d592_0 ...\n",
            "installing: zict-0.1.3-py36h3a3bf81_0 ...\n",
            "installing: astroid-1.6.1-py36_0 ...\n",
            "installing: bleach-2.1.2-py36_0 ...\n",
            "installing: clyent-1.2.2-py36h7e57e65_1 ...\n",
            "installing: cryptography-2.1.4-py36hd09be54_0 ...\n",
            "installing: cython-0.27.3-py36h1860423_0 ...\n",
            "installing: datashape-0.5.4-py36h3ad6b5c_0 ...\n",
            "installing: distributed-1.20.2-py36_0 ...\n",
            "installing: get_terminal_size-1.0.0-haa9412d_0 ...\n",
            "installing: gevent-1.2.2-py36h2fe25dc_0 ...\n",
            "installing: imageio-2.2.0-py36he555465_0 ...\n",
            "installing: isort-4.2.15-py36had401c0_0 ...\n",
            "installing: jinja2-2.10-py36ha16c418_0 ...\n",
            "installing: jsonschema-2.6.0-py36h006f8b5_0 ...\n",
            "installing: jupyter_core-4.4.0-py36h7c827e3_0 ...\n",
            "installing: matplotlib-2.1.2-py36h0e671d2_0 ...\n",
            "installing: navigator-updater-0.1.0-py36h14770f7_0 ...\n",
            "installing: nose-1.3.7-py36hcdf7029_2 ...\n",
            "installing: pandas-0.22.0-py36hf484d3e_0 ...\n",
            "installing: pango-1.41.0-hd475d92_0 ...\n",
            "installing: patsy-0.5.0-py36_0 ...\n",
            "installing: pyflakes-1.6.0-py36h7bd6a15_0 ...\n",
            "installing: pygments-2.2.0-py36h0d3125c_0 ...\n",
            "installing: pytables-3.4.2-py36h3b5282a_2 ...\n",
            "installing: pytest-3.3.2-py36_0 ...\n",
            "installing: scikit-learn-0.19.1-py36h7aa7ec6_0 ...\n",
            "installing: wheel-0.30.0-py36hfd4bba0_1 ...\n",
            "installing: astropy-2.0.3-py36h14c3975_0 ...\n",
            "installing: bkcharts-0.2-py36h735825a_0 ...\n",
            "installing: bokeh-0.12.13-py36h2f9c1c0_0 ...\n",
            "installing: flask-0.12.2-py36hb24657c_0 ...\n",
            "installing: jupyter_client-5.2.2-py36_0 ...\n",
            "installing: nbformat-4.4.0-py36h31c9010_0 ...\n",
            "installing: pip-9.0.1-py36h6c6f9ce_4 ...\n",
            "installing: prompt_toolkit-1.0.15-py36h17d85b1_0 ...\n",
            "installing: pylint-1.8.2-py36_0 ...\n",
            "installing: pyopenssl-17.5.0-py36h20ba746_0 ...\n",
            "installing: statsmodels-0.8.0-py36h8533d0b_0 ...\n",
            "installing: dask-0.16.1-py36_0 ...\n",
            "installing: flask-cors-3.0.3-py36h2d857d3_0 ...\n",
            "installing: ipython-6.2.1-py36h88c514a_1 ...\n",
            "installing: nbconvert-5.3.1-py36hb41ffb7_0 ...\n",
            "installing: seaborn-0.8.1-py36hfad7ec4_0 ...\n",
            "installing: urllib3-1.22-py36hbe7ace6_0 ...\n",
            "installing: ipykernel-4.8.0-py36_0 ...\n",
            "installing: odo-0.5.1-py36h90ed295_0 ...\n",
            "installing: requests-2.18.4-py36he2e5f8d_1 ...\n",
            "installing: scikit-image-0.13.1-py36h14c3975_1 ...\n",
            "installing: anaconda-client-1.6.9-py36_0 ...\n",
            "installing: blaze-0.11.3-py36h4e06776_0 ...\n",
            "installing: jupyter_console-5.2.0-py36he59e554_1 ...\n",
            "installing: notebook-5.4.0-py36_0 ...\n",
            "installing: qtconsole-4.3.1-py36h8f73b5b_0 ...\n",
            "installing: sphinx-1.6.6-py36_0 ...\n",
            "installing: anaconda-project-0.8.2-py36h44fb852_0 ...\n",
            "installing: jupyterlab_launcher-0.10.2-py36_0 ...\n",
            "installing: numpydoc-0.7.0-py36h18f165f_0 ...\n",
            "installing: widgetsnbextension-3.1.0-py36_0 ...\n",
            "installing: anaconda-navigator-1.7.0-py36_0 ...\n",
            "installing: ipywidgets-7.1.1-py36_0 ...\n",
            "installing: jupyterlab-0.31.5-py36_0 ...\n",
            "installing: spyder-3.2.6-py36_0 ...\n",
            "installing: _ipyw_jlab_nb_ext_conf-0.1.0-py36he11e457_0 ...\n",
            "installing: jupyter-1.0.0-py36_4 ...\n",
            "installing: anaconda-5.1.0-py36_2 ...\n",
            "installing: conda-4.4.10-py36_0 ...\n",
            "installing: conda-build-3.4.1-py36_0 ...\n",
            "installation finished.\n",
            "WARNING:\n",
            "    You currently have a PYTHONPATH environment variable set. This may cause\n",
            "    unexpected behavior when running the Python interpreter in Anaconda3.\n",
            "    For best results, please verify that your PYTHONPATH only points to\n",
            "    directories of packages that are compatible with the Python interpreter\n",
            "    in Anaconda3: /usr/local\n"
          ],
          "name": "stdout"
        }
      ]
    },
    {
      "cell_type": "code",
      "metadata": {
        "id": "pmVZPf0YDPyT",
        "colab_type": "code",
        "colab": {}
      },
      "source": [
        "import sys\n",
        "sys.path.append('/usr/local/lib/python3.7/site-packages/')"
      ],
      "execution_count": 0,
      "outputs": []
    },
    {
      "cell_type": "markdown",
      "metadata": {
        "id": "viDFbOhkFJyC",
        "colab_type": "text"
      },
      "source": [
        "Clonar repositorio"
      ]
    },
    {
      "cell_type": "code",
      "metadata": {
        "id": "lUn92AVNDVka",
        "colab_type": "code",
        "outputId": "c632bd02-d789-4383-cd0d-9a52f4f28b9e",
        "colab": {
          "base_uri": "https://localhost:8080/",
          "height": 136
        }
      },
      "source": [
        "!git clone https://github.com/facebookresearch/demucs"
      ],
      "execution_count": 5,
      "outputs": [
        {
          "output_type": "stream",
          "text": [
            "Cloning into 'demucs'...\n",
            "remote: Enumerating objects: 20, done.\u001b[K\n",
            "remote: Counting objects: 100% (20/20), done.\u001b[K\n",
            "remote: Compressing objects: 100% (19/19), done.\u001b[K\n",
            "remote: Total 2832 (delta 9), reused 3 (delta 1), pack-reused 2812\u001b[K\n",
            "Receiving objects: 100% (2832/2832), 48.61 MiB | 10.48 MiB/s, done.\n",
            "Resolving deltas: 100% (196/196), done.\n"
          ],
          "name": "stdout"
        }
      ]
    },
    {
      "cell_type": "code",
      "metadata": {
        "id": "xGyGcLAEDb1X",
        "colab_type": "code",
        "outputId": "cae7d357-492c-413f-a7d5-91ef76ed0d58",
        "colab": {
          "base_uri": "https://localhost:8080/",
          "height": 34
        }
      },
      "source": [
        "cd demucs"
      ],
      "execution_count": 6,
      "outputs": [
        {
          "output_type": "stream",
          "text": [
            "/content/demucs\n"
          ],
          "name": "stdout"
        }
      ]
    },
    {
      "cell_type": "markdown",
      "metadata": {
        "id": "lTbRm-GCFS_o",
        "colab_type": "text"
      },
      "source": [
        "Entorno virtual Demucs"
      ]
    },
    {
      "cell_type": "code",
      "metadata": {
        "id": "LPe5kieIGB4a",
        "colab_type": "code",
        "outputId": "2cbcfaf6-284e-4b87-a457-e59028734e9a",
        "colab": {
          "base_uri": "https://localhost:8080/",
          "height": 1000
        }
      },
      "source": [
        "!conda update -n base conda"
      ],
      "execution_count": 7,
      "outputs": [
        {
          "output_type": "stream",
          "text": [
            "Solving environment: - \b\b\\ \b\b| \b\b/ \b\b- \b\b\\ \b\b| \b\b/ \b\b- \b\b\\ \b\b| \b\b/ \b\b- \b\b\\ \b\b| \b\b/ \b\b- \b\b\\ \b\b| \b\b/ \b\b- \b\b\\ \b\b| \b\b/ \b\b- \b\b\\ \b\b| \b\b/ \b\b- \b\b\\ \b\b| \b\b/ \b\b- \b\b\\ \b\b| \b\b/ \b\b- \b\b\\ \b\b| \b\b/ \b\b- \b\b\\ \b\b| \b\b/ \b\b- \b\b\\ \b\b| \b\b/ \b\b- \b\b\\ \b\b| \b\b/ \b\b- \b\b\\ \b\b| \b\b/ \b\b- \b\b\\ \b\b| \b\b/ \b\b- \b\b\\ \b\b| \b\b/ \b\b- \b\b\\ \b\b| \b\b/ \b\b- \b\b\\ \b\b| \b\b/ \b\b- \b\b\\ \b\b| \b\b/ \b\b- \b\b\\ \b\b| \b\b/ \b\b- \b\b\\ \b\b| \b\b/ \b\b- \b\b\\ \b\b| \b\b/ \b\b- \b\b\\ \b\b| \b\b/ \b\b- \b\b\\ \b\b| \b\b/ \b\b- \b\b\\ \b\b| \b\b/ \b\b- \b\b\\ \b\b| \b\b/ \b\b- \b\b\\ \b\b| \b\b/ \b\b- \b\b\\ \b\b| \b\b/ \b\b- \b\b\\ \b\b| \b\b/ \b\b- \b\b\\ \b\b| \b\b/ \b\b- \b\b\\ \b\b| \b\b/ \b\b- \b\b\\ \b\b| \b\b/ \b\b- \b\b\\ \b\b| \b\b/ \b\b- \b\b\\ \b\b| \b\b/ \b\b- \b\b\\ \b\b| \b\b/ \b\b- \b\b\\ \b\b| \b\b/ \b\b- \b\b\\ \b\b| \b\b/ \b\b- \b\b\\ \b\b| \b\b/ \b\b- \b\b\\ \b\b| \b\b/ \b\b- \b\b\\ \b\b| \b\b/ \b\b- \b\b\\ \b\b| \b\b/ \b\b- \b\b\\ \b\b| \b\b/ \b\b- \b\b\\ \b\b| \b\b/ \b\b- \b\b\\ \b\b| \b\b/ \b\b- \b\b\\ \b\b| \b\b/ \b\b- \b\b\\ \b\b| \b\b/ \b\b- \b\b\\ \b\b| \b\b/ \b\b- \b\b\\ \b\b| \b\b/ \b\b- \b\b\\ \b\b| \b\b/ \b\b- \b\b\\ \b\b| \b\b/ \b\b- \b\b\\ \b\b| \b\b/ \b\b- \b\b\\ \b\b| \b\b/ \b\b- \b\b\\ \b\b| \b\b/ \b\b- \b\b\\ \b\b| \b\b/ \b\b- \b\b\\ \b\b| \b\b/ \b\b- \b\b\\ \b\b| \b\b/ \b\b- \b\b\\ \b\b| \b\b/ \b\b- \b\b\\ \b\b| \b\b/ \b\b- \b\b\\ \b\b| \b\b/ \b\b- \b\b\\ \b\b| \b\b/ \b\b- \b\b\\ \b\b| \b\b/ \b\b- \b\b\\ \b\b| \b\b/ \b\b- \b\b\\ \b\b| \b\b/ \b\b- \b\b\\ \b\b| \b\b/ \b\b- \b\b\\ \b\b| \b\b/ \b\b- \b\b\\ \b\b| \b\b/ \b\b- \b\b\\ \b\b| \b\b/ \b\b- \b\b\\ \b\b| \b\b/ \b\b- \b\b\\ \b\b| \b\b/ \b\b- \b\b\\ \b\b| \b\b/ \b\b- \b\b\\ \b\b| \b\b/ \b\b- \b\b\\ \b\b| \b\b/ \b\b- \b\b\\ \b\b| \b\b/ \b\b- \b\b\\ \b\b| \b\b/ \b\b- \b\b\\ \b\b| \b\b/ \b\b- \b\b\\ \b\b| \b\b/ \b\b- \b\b\\ \b\b| \b\b/ \b\b- \b\b\\ \b\b| \b\b/ \b\b- \b\b\\ \b\b| \b\b/ \b\b- \b\b\\ \b\b| \b\b/ \b\b- \b\b\\ \b\b| \b\bdone\n",
            "\n",
            "## Package Plan ##\n",
            "\n",
            "  environment location: /usr/local\n",
            "\n",
            "  added / updated specs: \n",
            "    - conda\n",
            "\n",
            "\n",
            "The following packages will be downloaded:\n",
            "\n",
            "    package                    |            build\n",
            "    ---------------------------|-----------------\n",
            "    tqdm-4.46.0                |             py_0          60 KB\n",
            "    idna-2.9                   |             py_1          56 KB\n",
            "    ruamel_yaml-0.15.87        |   py37h7b6447c_0         271 KB\n",
            "    pip-20.0.2                 |           py37_3         1.9 MB\n",
            "    libgcc-ng-9.1.0            |       hdf63c60_0         8.1 MB\n",
            "    pycparser-2.20             |             py_0          93 KB\n",
            "    requests-2.23.0            |           py37_0          91 KB\n",
            "    sqlite-3.31.1              |       h7b6447c_0         2.0 MB\n",
            "    chardet-3.0.4              |        py37_1003         173 KB\n",
            "    python-3.7.0               |       hc3d631a_0        31.7 MB\n",
            "    cryptography-2.3.1         |   py37hc365091_0         585 KB\n",
            "    wheel-0.34.2               |           py37_0          49 KB\n",
            "    asn1crypto-1.3.0           |           py37_0         162 KB\n",
            "    readline-7.0               |       h7b6447c_5         392 KB\n",
            "    cffi-1.14.0                |   py37h2e261b9_0         225 KB\n",
            "    pyopenssl-19.0.0           |           py37_0          82 KB\n",
            "    tk-8.6.8                   |       hbc83047_0         3.1 MB\n",
            "    pysocks-1.7.1              |           py37_0          30 KB\n",
            "    six-1.14.0                 |           py37_0          27 KB\n",
            "    libedit-3.1.20181209       |       hc058e9b_0         188 KB\n",
            "    ca-certificates-2020.1.1   |                0         132 KB\n",
            "    zlib-1.2.11                |       h7b6447c_3         120 KB\n",
            "    ncurses-6.1                |       hf484d3e_0         943 KB\n",
            "    setuptools-46.4.0          |           py37_0         645 KB\n",
            "    openssl-1.0.2u             |       h7b6447c_0         3.1 MB\n",
            "    xz-5.2.5                   |       h7b6447c_0         438 KB\n",
            "    _libgcc_mutex-0.1          |             main           3 KB\n",
            "    urllib3-1.25.8             |           py37_0         165 KB\n",
            "    conda-4.8.3                |           py37_0         3.0 MB\n",
            "    conda-package-handling-1.6.1|   py37h7b6447c_0         886 KB\n",
            "    certifi-2020.4.5.1         |           py37_0         159 KB\n",
            "    pycosat-0.6.3              |   py37h7b6447c_0         107 KB\n",
            "    ------------------------------------------------------------\n",
            "                                           Total:        58.9 MB\n",
            "\n",
            "The following NEW packages will be INSTALLED:\n",
            "\n",
            "    _libgcc_mutex:          0.1-main              \n",
            "    conda-package-handling: 1.6.1-py37h7b6447c_0  \n",
            "    tqdm:                   4.46.0-py_0           \n",
            "\n",
            "The following packages will be UPDATED:\n",
            "\n",
            "    asn1crypto:             0.24.0-py36_0          --> 1.3.0-py37_0           \n",
            "    ca-certificates:        2017.08.26-h1d4fec5_0  --> 2020.1.1-0             \n",
            "    certifi:                2018.1.18-py36_0       --> 2020.4.5.1-py37_0      \n",
            "    cffi:                   1.11.4-py36h9745a5d_0  --> 1.14.0-py37h2e261b9_0  \n",
            "    chardet:                3.0.4-py36h0f667ec_1   --> 3.0.4-py37_1003        \n",
            "    conda:                  4.4.10-py36_0          --> 4.8.3-py37_0           \n",
            "    cryptography:           2.1.4-py36hd09be54_0   --> 2.3.1-py37hc365091_0   \n",
            "    idna:                   2.6-py36h82fb2a8_1     --> 2.9-py_1               \n",
            "    libedit:                3.1-heed3624_0         --> 3.1.20181209-hc058e9b_0\n",
            "    libgcc-ng:              7.2.0-h7cc24e2_2       --> 9.1.0-hdf63c60_0       \n",
            "    ncurses:                6.0-h9df7e31_2         --> 6.1-hf484d3e_0         \n",
            "    openssl:                1.0.2n-hb7f436b_0      --> 1.0.2u-h7b6447c_0      \n",
            "    pip:                    9.0.1-py36h6c6f9ce_4   --> 20.0.2-py37_3          \n",
            "    pycosat:                0.6.3-py36h0a5515d_0   --> 0.6.3-py37h7b6447c_0   \n",
            "    pycparser:              2.18-py36hf9f622e_1    --> 2.20-py_0              \n",
            "    pyopenssl:              17.5.0-py36h20ba746_0  --> 19.0.0-py37_0          \n",
            "    pysocks:                1.6.7-py36hd97a5b1_1   --> 1.7.1-py37_0           \n",
            "    python:                 3.6.4-hc3d631a_1       --> 3.7.0-hc3d631a_0       \n",
            "    readline:               7.0-ha6073c6_4         --> 7.0-h7b6447c_5         \n",
            "    requests:               2.18.4-py36he2e5f8d_1  --> 2.23.0-py37_0          \n",
            "    ruamel_yaml:            0.15.35-py36h14c3975_1 --> 0.15.87-py37h7b6447c_0 \n",
            "    setuptools:             38.4.0-py36_0          --> 46.4.0-py37_0          \n",
            "    six:                    1.11.0-py36h372c433_1  --> 1.14.0-py37_0          \n",
            "    sqlite:                 3.22.0-h1bed415_0      --> 3.31.1-h7b6447c_0      \n",
            "    tk:                     8.6.7-hc745277_3       --> 8.6.8-hbc83047_0       \n",
            "    urllib3:                1.22-py36hbe7ace6_0    --> 1.25.8-py37_0          \n",
            "    wheel:                  0.30.0-py36hfd4bba0_1  --> 0.34.2-py37_0          \n",
            "    xz:                     5.2.3-h55aa19d_2       --> 5.2.5-h7b6447c_0       \n",
            "    zlib:                   1.2.11-ha838bed_2      --> 1.2.11-h7b6447c_3      \n",
            "\n",
            "Proceed ([y]/n)? y\n",
            "\n",
            "\n",
            "Downloading and Extracting Packages\n",
            "tqdm 4.46.0: 100% 1.0/1 [00:00<00:00, 13.82it/s]\n",
            "idna 2.9: 100% 1.0/1 [00:00<00:00, 19.02it/s]\n",
            "ruamel_yaml 0.15.87: 100% 1.0/1 [00:00<00:00,  6.71it/s]               \n",
            "pip 20.0.2: 100% 1.0/1 [00:00<00:00,  1.05it/s]               \n",
            "libgcc-ng 9.1.0: 100% 1.0/1 [00:02<00:00,  2.57s/it]              \n",
            "pycparser 2.20: 100% 1.0/1 [00:00<00:00, 10.71it/s]\n",
            "requests 2.23.0: 100% 1.0/1 [00:00<00:00,  3.35it/s]               \n",
            "sqlite 3.31.1: 100% 1.0/1 [00:00<00:00,  1.54it/s]               \n",
            "chardet 3.0.4: 100% 1.0/1 [00:00<00:00,  8.65it/s]               \n",
            "python 3.7.0: 100% 1.0/1 [00:09<00:00,  9.02s/it]               \n",
            "cryptography 2.3.1: 100% 1.0/1 [00:00<00:00,  1.59it/s]               \n",
            "wheel 0.34.2: 100% 1.0/1 [00:00<00:00,  7.96it/s]               \n",
            "asn1crypto 1.3.0: 100% 1.0/1 [00:00<00:00,  7.85it/s]               \n",
            "readline 7.0: 100% 1.0/1 [00:00<00:00,  4.97it/s] \n",
            "cffi 1.14.0: 100% 1.0/1 [00:00<00:00,  8.61it/s]               \n",
            "pyopenssl 19.0.0: 100% 1.0/1 [00:00<00:00,  2.42it/s]                \n",
            "tk 8.6.8: 100% 1.0/1 [00:01<00:00,  1.15s/it]               \n",
            "pysocks 1.7.1: 100% 1.0/1 [00:00<00:00, 24.48it/s]\n",
            "six 1.14.0: 100% 1.0/1 [00:00<00:00, 26.09it/s]\n",
            "libedit 3.1.20181209: 100% 1.0/1 [00:00<00:00,  9.42it/s]               \n",
            "ca-certificates 2020.1.1: 100% 1.0/1 [00:00<00:00, 12.05it/s]\n",
            "zlib 1.2.11: 100% 1.0/1 [00:00<00:00, 13.32it/s]\n",
            "ncurses 6.1: 100% 1.0/1 [00:01<00:00,  1.10s/it]               \n",
            "setuptools 46.4.0: 100% 1.0/1 [00:00<00:00,  2.90it/s]               \n",
            "openssl 1.0.2u: 100% 1.0/1 [00:01<00:00,  1.09s/it]               \n",
            "xz 5.2.5: 100% 1.0/1 [00:00<00:00,  4.52it/s]               \n",
            "_libgcc_mutex 0.1: 100% 1.0/1 [00:00<00:00, 35.71it/s]\n",
            "urllib3 1.25.8: 100% 1.0/1 [00:00<00:00,  7.40it/s]               \n",
            "conda 4.8.3: 100% 1.0/1 [00:01<00:00,  1.35s/it]               \n",
            "conda-package-handling 1.6.1: 100% 1.0/1 [00:00<00:00,  3.57it/s]               \n",
            "certifi 2020.4.5.1: 100% 1.0/1 [00:00<00:00, 12.26it/s]\n",
            "pycosat 0.6.3: 100% 1.0/1 [00:00<00:00, 13.26it/s]\n",
            "Preparing transaction: - \b\b\\ \b\b| \b\b/ \b\bdone\n",
            "Verifying transaction: \\ \b\b| \b\b/ \b\b- \b\b\\ \b\b| \b\b/ \b\b- \b\b\\ \b\b| \b\b/ \b\b- \b\b\\ \b\b| \b\b/ \b\b- \b\b\\ \b\b| \b\b/ \b\b- \b\b\\ \b\b| \b\b/ \b\b- \b\bdone\n",
            "Executing transaction: | \b\b/ \b\b- \b\b\\ \b\b| \b\b/ \b\b- \b\b\\ \b\b| \b\b/ \b\b- \b\b\\ \b\b| \b\b/ \b\b- \b\b\\ \b\b| \b\b/ \b\b- \b\b\\ \b\b| \b\b/ \b\b- \b\b\\ \b\b| \b\b/ \b\b- \b\b\\ \b\b| \b\b/ \b\b- \b\b\\ \b\b| \b\bdone\n"
          ],
          "name": "stdout"
        }
      ]
    },
    {
      "cell_type": "code",
      "metadata": {
        "id": "YAkGSr3YDdbH",
        "colab_type": "code",
        "outputId": "bb93f04d-a566-4a70-9ce6-721cf7d27aa1",
        "colab": {
          "base_uri": "https://localhost:8080/",
          "height": 1000
        }
      },
      "source": [
        "!conda env update -f environment-cuda.yml"
      ],
      "execution_count": 8,
      "outputs": [
        {
          "output_type": "stream",
          "text": [
            "Collecting package metadata (repodata.json): - \b\b\\ \b\b| \b\b/ \b\b- \b\b\\ \b\b| \b\b/ \b\b- \b\b\\ \b\b| \b\b/ \b\b- \b\b\\ \b\b| \b\b/ \b\b- \b\b\\ \b\b| \b\b/ \b\b- \b\b\\ \b\b| \b\b/ \b\b- \b\b\\ \b\b| \b\b/ \b\b- \b\b\\ \b\b| \b\b/ \b\b- \b\b\\ \b\b| \b\b/ \b\b- \b\b\\ \b\b| \b\b/ \b\b- \b\b\\ \b\b| \b\b/ \b\b- \b\b\\ \b\b| \b\b/ \b\b- \b\b\\ \b\b| \b\b/ \b\b- \b\b\\ \b\b| \b\b/ \b\b- \b\b\\ \b\b| \b\b/ \b\b- \b\b\\ \b\b| \b\b/ \b\b- \b\b\\ \b\b| \b\b/ \b\b- \b\b\\ \b\b| \b\b/ \b\b- \b\b\\ \b\b| \b\b/ \b\b- \b\b\\ \b\b| \b\b/ \b\b- \b\b\\ \b\b| \b\b/ \b\b- \b\b\\ \b\b| \b\b/ \b\b- \b\b\\ \b\b| \b\b/ \b\b- \b\b\\ \b\b| \b\b/ \b\b- \b\b\\ \b\b| \b\b/ \b\b- \b\b\\ \b\b| \b\b/ \b\b- \b\b\\ \b\b| \b\b/ \b\b- \b\b\\ \b\b| \b\b/ \b\b- \b\b\\ \b\b| \b\b/ \b\b- \b\b\\ \b\b| \b\b/ \b\b- \b\b\\ \b\b| \b\b/ \b\b- \b\b\\ \b\b| \b\b/ \b\b- \b\b\\ \b\b| \b\b/ \b\b- \b\b\\ \b\b| \b\b/ \b\b- \b\b\\ \b\b| \b\b/ \b\b- \b\b\\ \b\b| \b\b/ \b\b- \b\b\\ \b\b| \b\b/ \b\b- \b\b\\ \b\b| \b\b/ \b\b- \b\b\\ \b\b| \b\b/ \b\b- \b\b\\ \b\b| \b\b/ \b\bdone\n",
            "Solving environment: \\ \b\b| \b\b/ \b\b- \b\b\\ \b\b| \b\b/ \b\b- \b\b\\ \b\b| \b\b/ \b\b- \b\b\\ \b\b| \b\b/ \b\b- \b\b\\ \b\b| \b\b/ \b\b- \b\b\\ \b\b| \b\b/ \b\b- \b\b\\ \b\b| \b\b/ \b\b- \b\b\\ \b\b| \b\b/ \b\b- \b\b\\ \b\b| \b\b/ \b\b- \b\b\\ \b\b| \b\b/ \b\b- \b\b\\ \b\b| \b\b/ \b\bdone\n",
            "\n",
            "Downloading and Extracting Packages\n",
            "liblapack-3.8.0      | 10 KB     | : 100% 1.0/1 [00:00<00:00, 14.49it/s]\n",
            "ninja-1.10.0         | 1.9 MB    | : 100% 1.0/1 [00:00<00:00,  2.99it/s]\n",
            "gnutls-3.6.13        | 2.1 MB    | : 100% 1.0/1 [00:00<00:00,  1.97it/s]\n",
            "numpy-1.18.4         | 5.2 MB    | : 100% 1.0/1 [00:01<00:00,  1.14s/it]              \n",
            "x264-1!152.20180806  | 1.4 MB    | : 100% 1.0/1 [00:00<00:00,  4.29it/s]\n",
            "scipy-1.3.1          | 18.1 MB   | : 100% 1.0/1 [00:03<00:00,  3.14s/it]               \n",
            "ld_impl_linux-64-2.3 | 616 KB    | : 100% 1.0/1 [00:00<00:00,  6.74it/s]\n",
            "bzip2-1.0.8          | 396 KB    | : 100% 1.0/1 [00:00<00:00, 10.49it/s]\n",
            "zlib-1.2.11          | 105 KB    | : 100% 1.0/1 [00:00<00:00, 23.27it/s]\n",
            "libopenblas-0.3.9    | 7.8 MB    | : 100% 1.0/1 [00:01<00:00,  1.45s/it]               \n",
            "llvm-openmp-10.0.0   | 2.8 MB    | : 100% 1.0/1 [00:00<00:00,  2.16it/s]\n",
            "xz-5.2.5             | 430 KB    | : 100% 1.0/1 [00:00<00:00,  9.28it/s]\n",
            "_openmp_mutex-4.5    | 5 KB      | : 100% 1.0/1 [00:00<00:00, 35.09it/s]\n",
            "ffmpeg-4.2           | 80.2 MB   | : 100% 1.0/1 [00:19<00:00, 19.82s/it]               \n",
            "wheel-0.34.2         | 24 KB     | : 100% 1.0/1 [00:00<00:00, 33.84it/s]\n",
            "tk-8.6.10            | 3.2 MB    | : 100% 1.0/1 [00:00<00:00,  1.74it/s]\n",
            "libgfortran-ng-7.5.0 | 1.7 MB    | : 100% 1.0/1 [00:00<00:00,  2.77it/s]\n",
            "libstdcxx-ng-9.2.0   | 4.5 MB    | : 100% 1.0/1 [00:00<00:00,  1.43it/s]\n",
            "readline-8.0         | 441 KB    | : 100% 1.0/1 [00:00<00:00,  8.89it/s]\n",
            "pytorch-1.4.0        | 432.9 MB  | : 100% 1.0/1 [01:28<00:00, 88.17s/it]               \n",
            "libcblas-3.8.0       | 10 KB     | : 100% 1.0/1 [00:00<00:00, 35.48it/s]\n",
            "openh264-1.8.0       | 1.4 MB    | : 100% 1.0/1 [00:00<00:00,  4.34it/s]\n",
            "mkl-2020.1           | 200.8 MB  | : 100% 1.0/1 [00:35<00:00, 35.78s/it]               \n",
            "sqlite-3.30.1        | 2.0 MB    | : 100% 1.0/1 [00:00<00:00,  2.78it/s]\n",
            "nettle-3.4.1         | 5.7 MB    | : 100% 1.0/1 [00:00<00:00,  1.11it/s]\n",
            "_libgcc_mutex-0.1    | 3 KB      | : 100% 1.0/1 [00:00<00:00, 34.21it/s]\n",
            "certifi-2020.4.5.1   | 151 KB    | : 100% 1.0/1 [00:00<00:00, 23.12it/s]\n",
            "pip-20.1.1           | 1.1 MB    | : 100% 1.0/1 [00:00<00:00,  4.12it/s]\n",
            "openssl-1.1.1g       | 2.1 MB    | : 100% 1.0/1 [00:00<00:00,  2.82it/s]\n",
            "libpng-1.6.37        | 308 KB    | : 100% 1.0/1 [00:00<00:00, 12.49it/s]\n",
            "cudatoolkit-10.1.243 | 347.4 MB  | : 100% 1.0/1 [00:10<00:00, 10.49s/it]               \n",
            "lame-3.100           | 498 KB    | : 100% 1.0/1 [00:00<00:00,  2.41it/s]\n",
            "libiconv-1.15        | 2.0 MB    | : 100% 1.0/1 [00:00<00:00,  3.33it/s]\n",
            "gmp-6.2.0            | 811 KB    | : 100% 1.0/1 [00:00<00:00,  5.65it/s]\n",
            "ca-certificates-2020 | 146 KB    | : 100% 1.0/1 [00:00<00:00, 22.69it/s]\n",
            "setuptools-47.1.1    | 647 KB    | : 100% 1.0/1 [00:06<00:00,  6.64s/it]\n",
            "ncurses-6.1          | 1.3 MB    | : 100% 1.0/1 [00:00<00:00,  2.18it/s]\n",
            "libblas-3.8.0        | 10 KB     | : 100% 1.0/1 [00:00<00:00, 18.35it/s]\n",
            "tqdm-4.36.1          | 43 KB     | : 100% 1.0/1 [00:00<00:00, 25.07it/s]\n",
            "libffi-3.2.1         | 47 KB     | : 100% 1.0/1 [00:00<00:00, 27.00it/s]\n",
            "libgcc-ng-9.2.0      | 8.2 MB    | : 100% 1.0/1 [00:01<00:00,  1.26s/it]\n",
            "python_abi-3.7       | 4 KB      | : 100% 1.0/1 [00:00<00:00, 31.18it/s]\n",
            "python-3.7.6         | 52.9 MB   | : 100% 1.0/1 [00:06<00:00,  9.85s/it]               \n",
            "freetype-2.10.2      | 905 KB    | : 100% 1.0/1 [00:00<00:00,  5.47it/s]\n",
            "Preparing transaction: \\ \b\b| \b\b/ \b\b- \b\b\\ \b\b| \b\bdone\n",
            "Verifying transaction: - \b\b\\ \b\b| \b\b/ \b\b- \b\b\\ \b\b| \b\b/ \b\b- \b\b\\ \b\b| \b\b/ \b\b- \b\b\\ \b\b| \b\b/ \b\b- \b\b\\ \b\b| \b\b/ \b\b- \b\b\\ \b\b| \b\b/ \b\b- \b\b\\ \b\b| \b\b/ \b\b- \b\b\\ \b\b| \b\b/ \b\b- \b\b\\ \b\b| \b\b/ \b\b- \b\b\\ \b\b| \b\b/ \b\b- \b\b\\ \b\b| \b\b/ \b\b- \b\b\\ \b\b| \b\b/ \b\b- \b\b\\ \b\b| \b\b/ \b\b- \b\b\\ \b\b| \b\b/ \b\b- \b\b\\ \b\b| \b\b/ \b\b- \b\b\\ \b\b| \b\b/ \b\b- \b\b\\ \b\b| \b\b/ \b\b- \b\b\\ \b\b| \b\b/ \b\b- \b\b\\ \b\b| \b\b/ \b\b- \b\b\\ \b\b| \b\b/ \b\b- \b\b\\ \b\b| \b\b/ \b\b- \b\b\\ \b\b| \b\b/ \b\b- \b\b\\ \b\b| \b\bdone\n",
            "Executing transaction: - \b\b\\ \b\b| \b\b/ \b\b- \b\b\\ \b\b| \b\b/ \b\b- \b\b\\ \b\b| \b\b/ \b\b- \b\b\\ \b\b| \b\b/ \b\b- \b\b\\ \b\b| \b\b/ \b\b- \b\b\\ \b\b| \b\b/ \b\b- \b\b\\ \b\bdone\n",
            "Ran pip subprocess with arguments:\n",
            "['/usr/local/envs/demucs/bin/python', '-m', 'pip', 'install', '-U', '-r', '/content/demucs/condaenv.j8syugku.requirements.txt']\n",
            "Pip subprocess output:\n",
            "Collecting lameenc==1.2.2\n",
            "  Downloading lameenc-1.2.2-cp37-cp37m-manylinux1_x86_64.whl (187 kB)\n",
            "Collecting musdb==0.3.1\n",
            "  Downloading musdb-0.3.1-py2.py3-none-any.whl (27 kB)\n",
            "Collecting museval==0.3.0\n",
            "  Downloading museval-0.3.0-py2.py3-none-any.whl (21 kB)\n",
            "Collecting requests==2.22\n",
            "  Downloading requests-2.22.0-py2.py3-none-any.whl (57 kB)\n",
            "Collecting treetable==0.2.3\n",
            "  Downloading treetable-0.2.3.tar.gz (6.4 kB)\n",
            "Requirement already satisfied, skipping upgrade: tqdm in /usr/local/envs/demucs/lib/python3.7/site-packages (from musdb==0.3.1->-r /content/demucs/condaenv.j8syugku.requirements.txt (line 2)) (4.36.1)\n",
            "Collecting pyaml\n",
            "  Downloading pyaml-20.4.0-py2.py3-none-any.whl (17 kB)\n",
            "Collecting soundfile>=0.9.0\n",
            "  Downloading SoundFile-0.10.3.post1-py2.py3-none-any.whl (21 kB)\n",
            "Collecting stempeg>=0.1.7\n",
            "  Downloading stempeg-0.1.8-py3-none-any.whl (509 kB)\n",
            "Requirement already satisfied, skipping upgrade: numpy>=1.7 in /usr/local/envs/demucs/lib/python3.7/site-packages (from musdb==0.3.1->-r /content/demucs/condaenv.j8syugku.requirements.txt (line 2)) (1.18.4)\n",
            "Collecting simplejson\n",
            "  Downloading simplejson-3.17.0.tar.gz (83 kB)\n",
            "Collecting pandas>=0.25.0\n",
            "  Downloading pandas-1.0.4-cp37-cp37m-manylinux1_x86_64.whl (10.1 MB)\n",
            "Collecting jsonschema\n",
            "  Downloading jsonschema-3.2.0-py2.py3-none-any.whl (56 kB)\n",
            "Requirement already satisfied, skipping upgrade: scipy in /usr/local/envs/demucs/lib/python3.7/site-packages (from museval==0.3.0->-r /content/demucs/condaenv.j8syugku.requirements.txt (line 3)) (1.3.1)\n",
            "Collecting chardet<3.1.0,>=3.0.2\n",
            "  Downloading chardet-3.0.4-py2.py3-none-any.whl (133 kB)\n",
            "Requirement already satisfied, skipping upgrade: certifi>=2017.4.17 in /usr/local/envs/demucs/lib/python3.7/site-packages (from requests==2.22->-r /content/demucs/condaenv.j8syugku.requirements.txt (line 4)) (2020.4.5.1)\n",
            "Collecting idna<2.9,>=2.5\n",
            "  Downloading idna-2.8-py2.py3-none-any.whl (58 kB)\n",
            "Collecting urllib3!=1.25.0,!=1.25.1,<1.26,>=1.21.1\n",
            "  Downloading urllib3-1.25.9-py2.py3-none-any.whl (126 kB)\n",
            "Collecting PyYAML\n",
            "  Downloading PyYAML-5.3.1.tar.gz (269 kB)\n",
            "Collecting cffi>=1.0\n",
            "  Downloading cffi-1.14.0-cp37-cp37m-manylinux1_x86_64.whl (400 kB)\n",
            "Collecting python-dateutil>=2.6.1\n",
            "  Downloading python_dateutil-2.8.1-py2.py3-none-any.whl (227 kB)\n",
            "Collecting pytz>=2017.2\n",
            "  Downloading pytz-2020.1-py2.py3-none-any.whl (510 kB)\n",
            "Collecting pyrsistent>=0.14.0\n",
            "  Downloading pyrsistent-0.16.0.tar.gz (108 kB)\n",
            "Collecting six>=1.11.0\n",
            "  Downloading six-1.15.0-py2.py3-none-any.whl (10 kB)\n",
            "Collecting attrs>=17.4.0\n",
            "  Downloading attrs-19.3.0-py2.py3-none-any.whl (39 kB)\n",
            "Requirement already satisfied, skipping upgrade: setuptools in /usr/local/envs/demucs/lib/python3.7/site-packages (from jsonschema->museval==0.3.0->-r /content/demucs/condaenv.j8syugku.requirements.txt (line 3)) (47.1.1.post20200529)\n",
            "Collecting importlib-metadata; python_version < \"3.8\"\n",
            "  Downloading importlib_metadata-1.6.0-py2.py3-none-any.whl (30 kB)\n",
            "Collecting pycparser\n",
            "  Downloading pycparser-2.20-py2.py3-none-any.whl (112 kB)\n",
            "Collecting zipp>=0.5\n",
            "  Downloading zipp-3.1.0-py3-none-any.whl (4.9 kB)\n",
            "Building wheels for collected packages: treetable, simplejson, PyYAML, pyrsistent\n",
            "  Building wheel for treetable (setup.py): started\n",
            "  Building wheel for treetable (setup.py): finished with status 'done'\n",
            "  Created wheel for treetable: filename=treetable-0.2.3-py3-none-any.whl size=6410 sha256=d66bec5729fba9b6b651f8665215cf3c1a25d47006fce9b30b3c03412653a57b\n",
            "  Stored in directory: /root/.cache/pip/wheels/77/b4/ca/77363f041adbbf0d4ce113ddd82af12a214d43509eadad482a\n",
            "  Building wheel for simplejson (setup.py): started\n",
            "  Building wheel for simplejson (setup.py): finished with status 'done'\n",
            "  Created wheel for simplejson: filename=simplejson-3.17.0-cp37-cp37m-linux_x86_64.whl size=124739 sha256=df57496813f516c23aec28e65909048b4b209799df58c87f16cb72599d0c4b22\n",
            "  Stored in directory: /root/.cache/pip/wheels/8a/2d/bb/65cfe3f590a9cbb199f2011a6e4ccecd858844fb04e0dee2e9\n",
            "  Building wheel for PyYAML (setup.py): started\n",
            "  Building wheel for PyYAML (setup.py): finished with status 'done'\n",
            "  Created wheel for PyYAML: filename=PyYAML-5.3.1-cp37-cp37m-linux_x86_64.whl size=393727 sha256=7268879fc28d1b7110fca58e1c57606788a458f7e5001665b17582fc3ef824c1\n",
            "  Stored in directory: /root/.cache/pip/wheels/5e/03/1e/e1e954795d6f35dfc7b637fe2277bff021303bd9570ecea653\n",
            "  Building wheel for pyrsistent (setup.py): started\n",
            "  Building wheel for pyrsistent (setup.py): finished with status 'done'\n",
            "  Created wheel for pyrsistent: filename=pyrsistent-0.16.0-cp37-cp37m-linux_x86_64.whl size=115916 sha256=47b3687cfe5dce0fa93fd97613f282e814304bfa0bcce7c77987bc48121bf4c4\n",
            "  Stored in directory: /root/.cache/pip/wheels/22/52/11/f0920f95c23ed7d2d0b05f2b7b2f4509e87a20cfe8ea43d987\n",
            "Successfully built treetable simplejson PyYAML pyrsistent\n",
            "Installing collected packages: lameenc, PyYAML, pyaml, pycparser, cffi, soundfile, stempeg, musdb, simplejson, six, python-dateutil, pytz, pandas, pyrsistent, attrs, zipp, importlib-metadata, jsonschema, museval, chardet, idna, urllib3, requests, treetable\n",
            "Successfully installed PyYAML-5.3.1 attrs-19.3.0 cffi-1.14.0 chardet-3.0.4 idna-2.8 importlib-metadata-1.6.0 jsonschema-3.2.0 lameenc-1.2.2 musdb-0.3.1 museval-0.3.0 pandas-1.0.4 pyaml-20.4.0 pycparser-2.20 pyrsistent-0.16.0 python-dateutil-2.8.1 pytz-2020.1 requests-2.22.0 simplejson-3.17.0 six-1.15.0 soundfile-0.10.3.post1 stempeg-0.1.8 treetable-0.2.3 urllib3-1.25.9 zipp-3.1.0\n",
            "\n",
            "#\n",
            "# To activate this environment, use\n",
            "#\n",
            "#     $ conda activate demucs\n",
            "#\n",
            "# To deactivate an active environment, use\n",
            "#\n",
            "#     $ conda deactivate\n",
            "\n"
          ],
          "name": "stdout"
        }
      ]
    },
    {
      "cell_type": "code",
      "metadata": {
        "id": "qAjIiwEGJzQk",
        "colab_type": "code",
        "outputId": "4a4af3ec-1d1c-4dde-abd3-b0fe0db54a64",
        "colab": {
          "base_uri": "https://localhost:8080/",
          "height": 272
        }
      },
      "source": [
        "!conda init bash"
      ],
      "execution_count": 9,
      "outputs": [
        {
          "output_type": "stream",
          "text": [
            "no change     /usr/local/condabin/conda\n",
            "no change     /usr/local/bin/conda\n",
            "no change     /usr/local/bin/conda-env\n",
            "no change     /usr/local/bin/activate\n",
            "no change     /usr/local/bin/deactivate\n",
            "no change     /usr/local/etc/profile.d/conda.sh\n",
            "no change     /usr/local/etc/fish/conf.d/conda.fish\n",
            "no change     /usr/local/shell/condabin/Conda.psm1\n",
            "no change     /usr/local/shell/condabin/conda-hook.ps1\n",
            "no change     /usr/local/lib/python3.7/site-packages/xontrib/conda.xsh\n",
            "no change     /usr/local/etc/profile.d/conda.csh\n",
            "modified      /root/.bashrc\n",
            "\n",
            "==> For changes to take effect, close and re-open your current shell. <==\n",
            "\n"
          ],
          "name": "stdout"
        }
      ]
    },
    {
      "cell_type": "code",
      "metadata": {
        "id": "Zo3UGm5wJv7r",
        "colab_type": "code",
        "outputId": "8c2ac62e-5a64-47ca-84ca-63ce6278cb02",
        "colab": {
          "base_uri": "https://localhost:8080/",
          "height": 340
        }
      },
      "source": [
        "!conda activate demucs"
      ],
      "execution_count": 10,
      "outputs": [
        {
          "output_type": "stream",
          "text": [
            "\n",
            "CommandNotFoundError: Your shell has not been properly configured to use 'conda activate'.\n",
            "To initialize your shell, run\n",
            "\n",
            "    $ conda init <SHELL_NAME>\n",
            "\n",
            "Currently supported shells are:\n",
            "  - bash\n",
            "  - fish\n",
            "  - tcsh\n",
            "  - xonsh\n",
            "  - zsh\n",
            "  - powershell\n",
            "\n",
            "See 'conda init --help' for more information and options.\n",
            "\n",
            "IMPORTANT: You may need to close and restart your shell after running 'conda init'.\n",
            "\n",
            "\n"
          ],
          "name": "stdout"
        }
      ]
    },
    {
      "cell_type": "code",
      "metadata": {
        "id": "Fv3NAVd2g75Q",
        "colab_type": "code",
        "colab": {}
      },
      "source": [
        "!eval \"$(command conda 'shell.bash' 'hook' 2> /dev/null)\""
      ],
      "execution_count": 0,
      "outputs": []
    },
    {
      "cell_type": "code",
      "metadata": {
        "id": "kOjIPLlzhPfn",
        "colab_type": "code",
        "outputId": "27fa15a8-b281-4211-be7b-390495285259",
        "colab": {
          "base_uri": "https://localhost:8080/",
          "height": 136
        }
      },
      "source": [
        "!pip install numpy scipy torch==1.4.0+cu100 torchvision==0.5.0+cu100 -f https://download.pytorch.org/whl/torch_stable.html"
      ],
      "execution_count": 13,
      "outputs": [
        {
          "output_type": "stream",
          "text": [
            "Looking in links: https://download.pytorch.org/whl/torch_stable.html\n",
            "Requirement already satisfied: numpy in /usr/local/lib/python3.7/site-packages (1.18.4)\n",
            "Requirement already satisfied: scipy in /usr/local/lib/python3.7/site-packages (1.4.1)\n",
            "Requirement already satisfied: torch==1.4.0+cu100 in /usr/local/lib/python3.7/site-packages (1.4.0+cu100)\n",
            "Requirement already satisfied: torchvision==0.5.0+cu100 in /usr/local/lib/python3.7/site-packages (0.5.0+cu100)\n",
            "Requirement already satisfied: pillow>=4.1.1 in /usr/local/lib/python3.7/site-packages (from torchvision==0.5.0+cu100) (7.1.2)\n",
            "Requirement already satisfied: six in /usr/local/lib/python3.7/site-packages (from torchvision==0.5.0+cu100) (1.14.0)\n"
          ],
          "name": "stdout"
        }
      ]
    },
    {
      "cell_type": "markdown",
      "metadata": {
        "id": "Y1BdlzOQi3y7",
        "colab_type": "text"
      },
      "source": [
        "\n",
        "\n",
        "---\n",
        "\n",
        "\n",
        "# **Separación de audio**\n",
        "###**- Sube tu archivo a la carpeta demucs/ y edita ARCHIVO.mp3**\n",
        "\n",
        "\n",
        "---\n",
        "\n"
      ]
    },
    {
      "cell_type": "code",
      "metadata": {
        "id": "5lYOzKKCKAbJ",
        "colab_type": "code",
        "outputId": "b7d9385b-e405-43bc-db98-e8c4351379e8",
        "colab": {
          "base_uri": "https://localhost:8080/",
          "height": 68
        }
      },
      "source": [
        "!python3 -m demucs.separate --dl -n demucs -d cuda ARCHIVO.mp3"
      ],
      "execution_count": 16,
      "outputs": [
        {
          "output_type": "stream",
          "text": [
            "Separated tracks will be stored in /content/demucs/separated/demucs\n",
            "Separating track ARCHIVO.mp3\n",
            "100%|██████████████████████████████████████████████████████████████████████████████| 90/90 [00:04<00:00, 20.87seconds/s]\n"
          ],
          "name": "stdout"
        }
      ]
    },
    {
      "cell_type": "markdown",
      "metadata": {
        "id": "e8W4YKyJGMxw",
        "colab_type": "text"
      },
      "source": [
        "## Descarga los archivos\n",
        "Cambiar ARCHIVO por el nombre de tu audio mp3\n",
        "\n",
        "\n"
      ]
    },
    {
      "cell_type": "code",
      "metadata": {
        "id": "_atA0lt9axIO",
        "colab_type": "code",
        "outputId": "3035d080-b4ae-4c9c-b57c-8016661b5887",
        "colab": {
          "base_uri": "https://localhost:8080/",
          "height": 102
        }
      },
      "source": [
        "!zip -r /content/descarga.zip /content/demucs/separated/demucs/ARCHIVO"
      ],
      "execution_count": 17,
      "outputs": [
        {
          "output_type": "stream",
          "text": [
            "  adding: content/demucs/separated/demucs/ARCHIVO/ (stored 0%)\n",
            "  adding: content/demucs/separated/demucs/ARCHIVO/other.wav (deflated 17%)\n",
            "  adding: content/demucs/separated/demucs/ARCHIVO/vocals.wav (deflated 34%)\n",
            "  adding: content/demucs/separated/demucs/ARCHIVO/drums.wav (deflated 29%)\n",
            "  adding: content/demucs/separated/demucs/ARCHIVO/bass.wav (deflated 24%)\n"
          ],
          "name": "stdout"
        }
      ]
    }
  ]
}